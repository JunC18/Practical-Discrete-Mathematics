{
  "nbformat": 4,
  "nbformat_minor": 0,
  "metadata": {
    "colab": {
      "provenance": [],
      "authorship_tag": "ABX9TyOIj0m80kioxsUMM4fS6DNl",
      "include_colab_link": true
    },
    "kernelspec": {
      "name": "python3",
      "display_name": "Python 3"
    },
    "language_info": {
      "name": "python"
    }
  },
  "cells": [
    {
      "cell_type": "markdown",
      "metadata": {
        "id": "view-in-github",
        "colab_type": "text"
      },
      "source": [
        "<a href=\"https://colab.research.google.com/github/JunC18/Practical-Discrete-Mathematics/blob/master/Q1.ipynb\" target=\"_parent\"><img src=\"https://colab.research.google.com/assets/colab-badge.svg\" alt=\"Open In Colab\"/></a>"
      ]
    },
    {
      "cell_type": "markdown",
      "source": [
        "# Q1.Complete the following question adopted from About - Project Euler"
      ],
      "metadata": {
        "id": "GugfB6_zZcT0"
      }
    },
    {
      "cell_type": "markdown",
      "source": [
        "a. You are given the following information, but you may prefer to do some research for yourself. 1 Jan 1900 was a Monday. Thirty days has September, April, June, and November. All the rest have thirty-one, Saving February alone, Which has twenty-eight, rain or shine. And on leap years, twenty-nine. A leap year occurs on any year evenly divisible by 4, but not on a century unless it is divisible by 400. How many Sundays fell on the first of the month during the twentieth century (1 Jan 1901 to 31 Dec 2000)?"
      ],
      "metadata": {
        "id": "mjUV1U1VZcWd"
      }
    },
    {
      "cell_type": "code",
      "source": [
        "def is_leap_year(year):\n",
        "    if year % 4 == 0:\n",
        "        if year % 100 == 0:\n",
        "            if year % 400 == 0:\n",
        "                return True\n",
        "            else:\n",
        "                return False\n",
        "        else:\n",
        "            return True\n",
        "    else:\n",
        "        return False\n",
        "\n",
        "# Days in each month\n",
        "months = [31, 28, 31, 30, 31, 30, 31, 31, 30, 31, 30, 31]\n",
        "\n",
        "# Start with 1 Jan 1900 being a Monday\n",
        "day_of_week = 0  # Monday\n",
        "\n",
        "# Calculate the day of the week for 1 Jan 1901\n",
        "for year in range(1900, 1901):\n",
        "    for month in range(12):\n",
        "        day_of_week = (day_of_week + months[month]) % 7\n",
        "        if month == 1 and is_leap_year(year):\n",
        "            day_of_week = (day_of_week + 1) % 7\n",
        "\n",
        "# Now calculate for 1901 to 2000\n",
        "sundays_count = 0\n",
        "for year in range(1901, 2001):\n",
        "    for month in range(12):\n",
        "        if day_of_week == 6:  # Sunday\n",
        "            sundays_count += 1\n",
        "        day_of_week = (day_of_week + months[month]) % 7\n",
        "        if month == 1 and is_leap_year(year):\n",
        "            day_of_week = (day_of_week + 1) % 7\n",
        "\n",
        "print(\"Number of Sundays that fell on the first of the month:\", sundays_count)\n"
      ],
      "metadata": {
        "colab": {
          "base_uri": "https://localhost:8080/"
        },
        "id": "JH2LWCiSZgrc",
        "outputId": "b2a7fda4-8d6f-4f3b-bf81-027e5102de7f"
      },
      "execution_count": 1,
      "outputs": [
        {
          "output_type": "stream",
          "name": "stdout",
          "text": [
            "Number of Sundays that fell on the first of the month: 171\n"
          ]
        }
      ]
    },
    {
      "cell_type": "markdown",
      "source": [
        "b. If the numbers to are written out in words: one, two, three, four, five, then there are letters used in total.\n",
        "\n",
        "If all the numbers from to (one thousand) inclusive were written out in words, how many letters would be used?\n",
        "\n",
        "NOTE: Do not count spaces or hyphens. For example, (three hundred and forty-two) contains letters and (one hundred and fifteen) contains letters. The use of \"and\" when writing out numbers is in compliance with British usage"
      ],
      "metadata": {
        "id": "KB9rNK_qZknM"
      }
    },
    {
      "cell_type": "code",
      "source": [
        "def num_to_words(n):\n",
        "    # Single digit numbers\n",
        "    ones = [\"\", \"one\", \"two\", \"three\", \"four\", \"five\", \"six\", \"seven\", \"eight\", \"nine\"]\n",
        "    # Numbers from 10 to 19\n",
        "    teens = [\"ten\", \"eleven\", \"twelve\", \"thirteen\", \"fourteen\", \"fifteen\", \"sixteen\", \"seventeen\", \"eighteen\", \"nineteen\"]\n",
        "    # Tens place\n",
        "    tens = [\"\", \"\", \"twenty\", \"thirty\", \"forty\", \"fifty\", \"sixty\", \"seventy\", \"eighty\", \"ninety\"]\n",
        "\n",
        "    if 1 <= n < 10:\n",
        "        return ones[n]\n",
        "    elif 10 <= n < 20:\n",
        "        return teens[n-10]\n",
        "    elif 20 <= n < 100:\n",
        "        return tens[n//10] + ones[n%10]\n",
        "    elif 100 <= n < 1000:\n",
        "        if n % 100 == 0:\n",
        "            return ones[n//100] + \"hundred\"\n",
        "        else:\n",
        "            return ones[n//100] + \"hundredand\" + num_to_words(n % 100)\n",
        "    elif n == 1000:\n",
        "        return \"onethousand\"\n",
        "    else:\n",
        "        return \"\"\n",
        "\n",
        "total_letters = 0\n",
        "for i in range(1, 1001):\n",
        "    word = num_to_words(i)\n",
        "    word_without_spaces = word.replace(\" \", \"\").replace(\"-\", \"\")\n",
        "    total_letters += len(word_without_spaces)\n",
        "\n",
        "print(\"Total letters used:\", total_letters)"
      ],
      "metadata": {
        "colab": {
          "base_uri": "https://localhost:8080/"
        },
        "id": "0wqOBXjCZkF-",
        "outputId": "f19883f0-39e8-41c4-e7d6-6ac50fdecde0"
      },
      "execution_count": 2,
      "outputs": [
        {
          "output_type": "stream",
          "name": "stdout",
          "text": [
            "Total letters used: 21124\n"
          ]
        }
      ]
    },
    {
      "cell_type": "markdown",
      "source": [
        "c. The series,1^1+2^2+3^3+...+10^10 = 10405071317\n",
        "\n",
        "Find the last ten digits of the series, 1^1+2^2+3^3+...+1000^1000="
      ],
      "metadata": {
        "id": "M11CXOCKZy9a"
      }
    },
    {
      "cell_type": "code",
      "source": [
        "# Function to find the last ten digits of the series 1^1 + 2^2 + 3^3 + ... + n^n\n",
        "def last_ten_digits_of_series(n):\n",
        "    series_sum = sum(i**i for i in range(1, n+1))\n",
        "    return str(series_sum)[-10:]\n",
        "\n",
        "# Calculate the last ten digits of the series 1^1 + 2^2 + 3^3 + ... + 1000^1000\n",
        "result = last_ten_digits_of_series(1000)\n",
        "\n",
        "print(f\"The last ten digits of the series are: {result}\")\n"
      ],
      "metadata": {
        "colab": {
          "base_uri": "https://localhost:8080/"
        },
        "id": "8yFKW37pZ0OY",
        "outputId": "56e16172-bf91-4c23-e070-d2eb807b7f3f"
      },
      "execution_count": 3,
      "outputs": [
        {
          "output_type": "stream",
          "name": "stdout",
          "text": [
            "The last ten digits of the series are: 9110846700\n"
          ]
        }
      ]
    },
    {
      "cell_type": "markdown",
      "source": [
        "d.Each character on a computer is assigned a unique code and the preferred standard is ASCII (American Standard Code for Information Interchange). For example, uppercase A = 65, asterisk (*) = 42, and lowercase k = 107.\n",
        "\n",
        "A modern encryption method is to take a text file, convert the bytes to ASCII, then XOR each byte with a given value, taken from a secret key. The advantage with the XOR function is that using the same encryption key on the cipher text, restores the plain text; for example, 65 XOR 42 = 107, then 107 XOR 42 = 65.\n",
        "\n",
        "For unbreakable encryption, the key is the same length as the plain text message, and the key is made up of random bytes. The user would keep the encrypted message and the encryption key in different locations, and without both \"halves\", it is impossible to decrypt the message.\n",
        "\n",
        "Unfortunately, this method is impractical for most users, so the modified method is to use a password as a key. If the password is shorter than the message, which is likely, the key is repeated cyclically throughout the message. The balance for this method is using a sufficiently long password key for security, but short enough to be memorable.\n",
        "\n",
        "Your task has been made easy, as the encryption key consists of three lower case characters. Using 0059_cipher.txt (right click and 'Save Link/Target As...'), a file containing the encrypted ASCII codes, and the knowledge that the plain text must contain common English words, decrypt the message and find the sum of the ASCII values in the original text."
      ],
      "metadata": {
        "id": "S17ridqqZ18-"
      }
    },
    {
      "cell_type": "code",
      "source": [
        "import itertools\n",
        "\n",
        "# Load the encrypted ASCII codes from the file\n",
        "from google.colab import files\n",
        "uploaded = files.upload()\n",
        "\n",
        "# Read the uploaded file\n",
        "filename = list(uploaded.keys())[0]\n",
        "with open(filename, 'r') as file:\n",
        "    encrypted_codes = list(map(int, file.read().strip().split(',')))\n",
        "\n",
        "# Generate all possible three-character keys\n",
        "keys = itertools.product(range(ord('a'), ord('z') + 1), repeat=3)\n",
        "\n",
        "# Function to decrypt the message with a given key\n",
        "def decrypt_message(encrypted_codes, key):\n",
        "    decrypted_message = []\n",
        "    key_length = len(key)\n",
        "    for i, code in enumerate(encrypted_codes):\n",
        "        decrypted_message.append(code ^ key[i % key_length])\n",
        "    return decrypted_message\n",
        "\n",
        "# Function to check if the decrypted message contains common English words\n",
        "def contains_common_words(decrypted_message):\n",
        "    common_words = ['the', 'and', 'to', 'of', 'a', 'in', 'that', 'is', 'it', 'with']\n",
        "    decrypted_text = ''.join(map(chr, decrypted_message))\n",
        "    return any(word in decrypted_text for word in common_words)\n",
        "\n",
        "# Try each key and find the correct one\n",
        "for key in keys:\n",
        "    decrypted_message = decrypt_message(encrypted_codes, key)\n",
        "    if contains_common_words(decrypted_message):\n",
        "        correct_key = key\n",
        "        break\n",
        "\n",
        "# Calculate the sum of ASCII values in the original text\n",
        "sum_ascii_values = sum(decrypted_message)\n",
        "\n",
        "# Print the results\n",
        "print(\"Correct Key:\", ''.join(map(chr, correct_key)))\n",
        "print(\"Sum of ASCII Values in Original Text:\", sum_ascii_values)"
      ],
      "metadata": {
        "colab": {
          "base_uri": "https://localhost:8080/",
          "height": 110
        },
        "id": "VhjlGIqVZ5bF",
        "outputId": "de030aad-8a71-4637-e0b1-b887db0ff431"
      },
      "execution_count": 4,
      "outputs": [
        {
          "output_type": "display_data",
          "data": {
            "text/plain": [
              "<IPython.core.display.HTML object>"
            ],
            "text/html": [
              "\n",
              "     <input type=\"file\" id=\"files-8a2f1432-5dd2-4319-b7af-f4aba971a949\" name=\"files[]\" multiple disabled\n",
              "        style=\"border:none\" />\n",
              "     <output id=\"result-8a2f1432-5dd2-4319-b7af-f4aba971a949\">\n",
              "      Upload widget is only available when the cell has been executed in the\n",
              "      current browser session. Please rerun this cell to enable.\n",
              "      </output>\n",
              "      <script>// Copyright 2017 Google LLC\n",
              "//\n",
              "// Licensed under the Apache License, Version 2.0 (the \"License\");\n",
              "// you may not use this file except in compliance with the License.\n",
              "// You may obtain a copy of the License at\n",
              "//\n",
              "//      http://www.apache.org/licenses/LICENSE-2.0\n",
              "//\n",
              "// Unless required by applicable law or agreed to in writing, software\n",
              "// distributed under the License is distributed on an \"AS IS\" BASIS,\n",
              "// WITHOUT WARRANTIES OR CONDITIONS OF ANY KIND, either express or implied.\n",
              "// See the License for the specific language governing permissions and\n",
              "// limitations under the License.\n",
              "\n",
              "/**\n",
              " * @fileoverview Helpers for google.colab Python module.\n",
              " */\n",
              "(function(scope) {\n",
              "function span(text, styleAttributes = {}) {\n",
              "  const element = document.createElement('span');\n",
              "  element.textContent = text;\n",
              "  for (const key of Object.keys(styleAttributes)) {\n",
              "    element.style[key] = styleAttributes[key];\n",
              "  }\n",
              "  return element;\n",
              "}\n",
              "\n",
              "// Max number of bytes which will be uploaded at a time.\n",
              "const MAX_PAYLOAD_SIZE = 100 * 1024;\n",
              "\n",
              "function _uploadFiles(inputId, outputId) {\n",
              "  const steps = uploadFilesStep(inputId, outputId);\n",
              "  const outputElement = document.getElementById(outputId);\n",
              "  // Cache steps on the outputElement to make it available for the next call\n",
              "  // to uploadFilesContinue from Python.\n",
              "  outputElement.steps = steps;\n",
              "\n",
              "  return _uploadFilesContinue(outputId);\n",
              "}\n",
              "\n",
              "// This is roughly an async generator (not supported in the browser yet),\n",
              "// where there are multiple asynchronous steps and the Python side is going\n",
              "// to poll for completion of each step.\n",
              "// This uses a Promise to block the python side on completion of each step,\n",
              "// then passes the result of the previous step as the input to the next step.\n",
              "function _uploadFilesContinue(outputId) {\n",
              "  const outputElement = document.getElementById(outputId);\n",
              "  const steps = outputElement.steps;\n",
              "\n",
              "  const next = steps.next(outputElement.lastPromiseValue);\n",
              "  return Promise.resolve(next.value.promise).then((value) => {\n",
              "    // Cache the last promise value to make it available to the next\n",
              "    // step of the generator.\n",
              "    outputElement.lastPromiseValue = value;\n",
              "    return next.value.response;\n",
              "  });\n",
              "}\n",
              "\n",
              "/**\n",
              " * Generator function which is called between each async step of the upload\n",
              " * process.\n",
              " * @param {string} inputId Element ID of the input file picker element.\n",
              " * @param {string} outputId Element ID of the output display.\n",
              " * @return {!Iterable<!Object>} Iterable of next steps.\n",
              " */\n",
              "function* uploadFilesStep(inputId, outputId) {\n",
              "  const inputElement = document.getElementById(inputId);\n",
              "  inputElement.disabled = false;\n",
              "\n",
              "  const outputElement = document.getElementById(outputId);\n",
              "  outputElement.innerHTML = '';\n",
              "\n",
              "  const pickedPromise = new Promise((resolve) => {\n",
              "    inputElement.addEventListener('change', (e) => {\n",
              "      resolve(e.target.files);\n",
              "    });\n",
              "  });\n",
              "\n",
              "  const cancel = document.createElement('button');\n",
              "  inputElement.parentElement.appendChild(cancel);\n",
              "  cancel.textContent = 'Cancel upload';\n",
              "  const cancelPromise = new Promise((resolve) => {\n",
              "    cancel.onclick = () => {\n",
              "      resolve(null);\n",
              "    };\n",
              "  });\n",
              "\n",
              "  // Wait for the user to pick the files.\n",
              "  const files = yield {\n",
              "    promise: Promise.race([pickedPromise, cancelPromise]),\n",
              "    response: {\n",
              "      action: 'starting',\n",
              "    }\n",
              "  };\n",
              "\n",
              "  cancel.remove();\n",
              "\n",
              "  // Disable the input element since further picks are not allowed.\n",
              "  inputElement.disabled = true;\n",
              "\n",
              "  if (!files) {\n",
              "    return {\n",
              "      response: {\n",
              "        action: 'complete',\n",
              "      }\n",
              "    };\n",
              "  }\n",
              "\n",
              "  for (const file of files) {\n",
              "    const li = document.createElement('li');\n",
              "    li.append(span(file.name, {fontWeight: 'bold'}));\n",
              "    li.append(span(\n",
              "        `(${file.type || 'n/a'}) - ${file.size} bytes, ` +\n",
              "        `last modified: ${\n",
              "            file.lastModifiedDate ? file.lastModifiedDate.toLocaleDateString() :\n",
              "                                    'n/a'} - `));\n",
              "    const percent = span('0% done');\n",
              "    li.appendChild(percent);\n",
              "\n",
              "    outputElement.appendChild(li);\n",
              "\n",
              "    const fileDataPromise = new Promise((resolve) => {\n",
              "      const reader = new FileReader();\n",
              "      reader.onload = (e) => {\n",
              "        resolve(e.target.result);\n",
              "      };\n",
              "      reader.readAsArrayBuffer(file);\n",
              "    });\n",
              "    // Wait for the data to be ready.\n",
              "    let fileData = yield {\n",
              "      promise: fileDataPromise,\n",
              "      response: {\n",
              "        action: 'continue',\n",
              "      }\n",
              "    };\n",
              "\n",
              "    // Use a chunked sending to avoid message size limits. See b/62115660.\n",
              "    let position = 0;\n",
              "    do {\n",
              "      const length = Math.min(fileData.byteLength - position, MAX_PAYLOAD_SIZE);\n",
              "      const chunk = new Uint8Array(fileData, position, length);\n",
              "      position += length;\n",
              "\n",
              "      const base64 = btoa(String.fromCharCode.apply(null, chunk));\n",
              "      yield {\n",
              "        response: {\n",
              "          action: 'append',\n",
              "          file: file.name,\n",
              "          data: base64,\n",
              "        },\n",
              "      };\n",
              "\n",
              "      let percentDone = fileData.byteLength === 0 ?\n",
              "          100 :\n",
              "          Math.round((position / fileData.byteLength) * 100);\n",
              "      percent.textContent = `${percentDone}% done`;\n",
              "\n",
              "    } while (position < fileData.byteLength);\n",
              "  }\n",
              "\n",
              "  // All done.\n",
              "  yield {\n",
              "    response: {\n",
              "      action: 'complete',\n",
              "    }\n",
              "  };\n",
              "}\n",
              "\n",
              "scope.google = scope.google || {};\n",
              "scope.google.colab = scope.google.colab || {};\n",
              "scope.google.colab._files = {\n",
              "  _uploadFiles,\n",
              "  _uploadFilesContinue,\n",
              "};\n",
              "})(self);\n",
              "</script> "
            ]
          },
          "metadata": {}
        },
        {
          "output_type": "stream",
          "name": "stdout",
          "text": [
            "Saving 0059_cipher.txt to 0059_cipher.txt\n",
            "Correct Key: aaa\n",
            "Sum of ASCII Values in Original Text: 136744\n"
          ]
        }
      ]
    }
  ]
}