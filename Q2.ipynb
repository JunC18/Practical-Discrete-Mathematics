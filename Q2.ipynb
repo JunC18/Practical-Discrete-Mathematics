{
  "nbformat": 4,
  "nbformat_minor": 0,
  "metadata": {
    "colab": {
      "provenance": [],
      "authorship_tag": "ABX9TyOlrZoNBvfof3/H1HviArD+",
      "include_colab_link": true
    },
    "kernelspec": {
      "name": "python3",
      "display_name": "Python 3"
    },
    "language_info": {
      "name": "python"
    }
  },
  "cells": [
    {
      "cell_type": "markdown",
      "metadata": {
        "id": "view-in-github",
        "colab_type": "text"
      },
      "source": [
        "<a href=\"https://colab.research.google.com/github/JunC18/Practical-Discrete-Mathematics/blob/master/Q2.ipynb\" target=\"_parent\"><img src=\"https://colab.research.google.com/assets/colab-badge.svg\" alt=\"Open In Colab\"/></a>"
      ]
    },
    {
      "cell_type": "markdown",
      "source": [
        "# Q2.Analyse the time complexity of the following algorithm"
      ],
      "metadata": {
        "id": "dIcsDh-vcoJN"
      }
    },
    {
      "cell_type": "markdown",
      "source": [
        "A)\tLinear Search"
      ],
      "metadata": {
        "id": "m5UcrVllcvaH"
      }
    },
    {
      "cell_type": "code",
      "source": [
        "# Linear Search Function\n",
        "def linear_search(arr, target):\n",
        "    for i in range(len(arr)):\n",
        "        if arr[i] == target:\n",
        "            return i\n",
        "    return -1\n",
        "\n",
        "# Example usage\n",
        "arr = [10, 23, 45, 70, 11, 15]\n",
        "target = 70\n",
        "\n",
        "# Perform linear search\n",
        "index = linear_search(arr, target)\n",
        "\n",
        "if index != -1:\n",
        "    print(f\"Element found at index {index}\")\n",
        "else:\n",
        "    print(\"Element not found in the array\")"
      ],
      "metadata": {
        "colab": {
          "base_uri": "https://localhost:8080/"
        },
        "id": "Brkw308icvBg",
        "outputId": "5120ef82-a747-4a8c-e845-2e78bba3c0d6"
      },
      "execution_count": 1,
      "outputs": [
        {
          "output_type": "stream",
          "name": "stdout",
          "text": [
            "Element found at index 3\n"
          ]
        }
      ]
    },
    {
      "cell_type": "markdown",
      "source": [
        "b. Bubble sort"
      ],
      "metadata": {
        "id": "lLzUxLXhc06N"
      }
    },
    {
      "cell_type": "code",
      "source": [
        "# Bubble Sort Function\n",
        "def bubble_sort(arr):\n",
        "    n = len(arr)\n",
        "    for i in range(n):\n",
        "        swapped = False\n",
        "        for j in range(0, n-i-1):\n",
        "            if arr[j] > arr[j+1]:\n",
        "                arr[j], arr[j+1] = arr[j+1], arr[j]\n",
        "                swapped = True\n",
        "        if not swapped:\n",
        "            break\n",
        "\n",
        "# Example usage\n",
        "arr = [10, 23, 45, 70, 11, 15]\n",
        "bubble_sort(arr)\n",
        "\n",
        "print(\"Sorted array is:\", arr)"
      ],
      "metadata": {
        "colab": {
          "base_uri": "https://localhost:8080/"
        },
        "id": "NCCvNynsc1a7",
        "outputId": "132052f2-1ac5-4f5e-fe6f-711a65ade9e0"
      },
      "execution_count": 2,
      "outputs": [
        {
          "output_type": "stream",
          "name": "stdout",
          "text": [
            "Sorted array is: [10, 11, 15, 23, 45, 70]\n"
          ]
        }
      ]
    },
    {
      "cell_type": "markdown",
      "source": [
        "c. Binary search"
      ],
      "metadata": {
        "id": "HXzvA4mqc26h"
      }
    },
    {
      "cell_type": "code",
      "source": [
        "# Binary Search Function\n",
        "def binary_search(arr, target):\n",
        "    left, right = 0, len(arr) - 1\n",
        "    while left <= right:\n",
        "        mid = (left + right) // 2\n",
        "        if arr[mid] == target:\n",
        "            return mid\n",
        "        elif arr[mid] < target:\n",
        "            left = mid + 1\n",
        "        else:\n",
        "            right = mid - 1\n",
        "    return -1\n",
        "\n",
        "# Example usage\n",
        "arr = [10, 23, 45, 70, 11, 15]\n",
        "target = 70\n",
        "\n",
        "# Perform binary search\n",
        "index = binary_search(arr, target)\n",
        "\n",
        "if index != -1:\n",
        "    print(f\"Element found at index {index}\")\n",
        "else:\n",
        "    print(\"Element not found in the array\")"
      ],
      "metadata": {
        "colab": {
          "base_uri": "https://localhost:8080/"
        },
        "id": "ZwvW7isZc42l",
        "outputId": "c5e412b6-fece-418d-a916-2f94d5889a7d"
      },
      "execution_count": 3,
      "outputs": [
        {
          "output_type": "stream",
          "name": "stdout",
          "text": [
            "Element not found in the array\n"
          ]
        }
      ]
    },
    {
      "cell_type": "markdown",
      "source": [
        "d. Radix sort"
      ],
      "metadata": {
        "id": "vnbB-zSbc7_v"
      }
    },
    {
      "cell_type": "code",
      "source": [
        "# Counting Sort Function for Radix Sort\n",
        "def counting_sort(arr, exp):\n",
        "    n = len(arr)\n",
        "    output = [0] * n\n",
        "    count = [0] * 10\n",
        "\n",
        "    for i in range(n):\n",
        "        index = arr[i] // exp\n",
        "        count[index % 10] += 1\n",
        "\n",
        "    for i in range(1, 10):\n",
        "        count[i] += count[i - 1]\n",
        "\n",
        "    i = n - 1\n",
        "    while i >= 0:\n",
        "        index = arr[i] // exp\n",
        "        output[count[index % 10] - 1] = arr[i]\n",
        "        count[index % 10] -= 1\n",
        "        i -= 1\n",
        "\n",
        "    for i in range(n):\n",
        "        arr[i] = output[i]\n",
        "\n",
        "# Radix Sort Function\n",
        "def radix_sort(arr):\n",
        "    max1 = max(arr)\n",
        "    exp = 1\n",
        "    while max1 // exp > 0:\n",
        "        counting_sort(arr, exp)\n",
        "        exp *= 10\n",
        "\n",
        "# Example usage\n",
        "arr = [10, 23, 45, 70, 11, 15]\n",
        "radix_sort(arr)\n",
        "\n",
        "print(\"Sorted array is:\", arr)"
      ],
      "metadata": {
        "colab": {
          "base_uri": "https://localhost:8080/"
        },
        "id": "Lio1hUM-c9Ld",
        "outputId": "6034d82e-6393-40e9-825c-5dda6249c344"
      },
      "execution_count": 4,
      "outputs": [
        {
          "output_type": "stream",
          "name": "stdout",
          "text": [
            "Sorted array is: [10, 11, 15, 23, 45, 70]\n"
          ]
        }
      ]
    },
    {
      "cell_type": "markdown",
      "source": [
        "e. Heap sort"
      ],
      "metadata": {
        "id": "M-dcsQahc_hi"
      }
    },
    {
      "cell_type": "code",
      "source": [
        "# Heapify function to maintain heap property\n",
        "def heapify(arr, n, i):\n",
        "    largest = i\n",
        "    left = 2 * i + 1\n",
        "    right = 2 * i + 2\n",
        "\n",
        "    if left < n and arr[i] < arr[left]:\n",
        "        largest = left\n",
        "\n",
        "    if right < n and arr[largest] < arr[right]:\n",
        "        largest = right\n",
        "\n",
        "    if largest != i:\n",
        "        arr[i], arr[largest] = arr[largest], arr[i]\n",
        "        heapify(arr, n, largest)\n",
        "\n",
        "# Heap Sort function\n",
        "def heap_sort(arr):\n",
        "    n = len(arr)\n",
        "\n",
        "    # Build a max heap\n",
        "    for i in range(n // 2 - 1, -1, -1):\n",
        "        heapify(arr, n, i)\n",
        "\n",
        "    # Extract elements from heap one by one\n",
        "    for i in range(n-1, 0, -1):\n",
        "        arr[i], arr[0] = arr[0], arr[i]\n",
        "        heapify(arr, i, 0)\n",
        "\n",
        "# Example usage\n",
        "arr = [10, 23, 45, 70, 11, 15]\n",
        "heap_sort(arr)\n",
        "\n",
        "print(\"Sorted array is:\", arr)"
      ],
      "metadata": {
        "colab": {
          "base_uri": "https://localhost:8080/"
        },
        "id": "CoAguYs3dACC",
        "outputId": "5ba0e694-2fd5-4483-936d-f4fc9469e9fc"
      },
      "execution_count": 5,
      "outputs": [
        {
          "output_type": "stream",
          "name": "stdout",
          "text": [
            "Sorted array is: [10, 11, 15, 23, 45, 70]\n"
          ]
        }
      ]
    }
  ]
}