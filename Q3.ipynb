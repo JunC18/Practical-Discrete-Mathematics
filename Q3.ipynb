{
  "nbformat": 4,
  "nbformat_minor": 0,
  "metadata": {
    "colab": {
      "provenance": [],
      "authorship_tag": "ABX9TyNzvO8ezVmkn9HEXqX1V1XE",
      "include_colab_link": true
    },
    "kernelspec": {
      "name": "python3",
      "display_name": "Python 3"
    },
    "language_info": {
      "name": "python"
    }
  },
  "cells": [
    {
      "cell_type": "markdown",
      "metadata": {
        "id": "view-in-github",
        "colab_type": "text"
      },
      "source": [
        "<a href=\"https://colab.research.google.com/github/JunC18/Practical-Discrete-Mathematics/blob/master/assignment%20q3.ipynb\" target=\"_parent\"><img src=\"https://colab.research.google.com/assets/colab-badge.svg\" alt=\"Open In Colab\"/></a>"
      ]
    },
    {
      "cell_type": "markdown",
      "source": [
        "## Q3.  You are working on a social media platform where users can follow each other. The platform wants to implement a feature to suggest new friends to users based on mutual connections. Write a Python function suggest_friends(graph, user) that takes in a graph representing social network and a specific user and return a list of suggested friends for that user. The graph is represented as an adjacency list, where the keys are user IDs, and the values are lists of user IDs that the key user follows. Use the given Q3.csv as the dataset."
      ],
      "metadata": {
        "id": "egyLTPWVf0le"
      }
    },
    {
      "cell_type": "markdown",
      "source": [
        "a. Graph representation: the graph is represented as a dictionary where each key is a user ID and the value is a list of user IDs that the key user follows. (5 marks)"
      ],
      "metadata": {
        "id": "BiY08wDkgKIW"
      }
    },
    {
      "cell_type": "code",
      "source": [
        "import pandas as pd\n",
        "\n",
        "def read_graph_from_csv(file_path):\n",
        "    \"\"\"\n",
        "    Reads a graph from a CSV file and returns it as an adjacency list where each user has a straight list of followers.\n",
        "\n",
        "    Parameters:\n",
        "        file_path (str): Path to the CSV file.\n",
        "\n",
        "    Returns:\n",
        "        dict: The graph represented as an adjacency list with a straight list of followers.\n",
        "    \"\"\"\n",
        "    data = pd.read_csv(file_path)\n",
        "    graph = {}\n",
        "\n",
        "    # Store the relationships from each row into the dictionary\n",
        "    for _, row in data.iterrows():\n",
        "        user = row['Name']\n",
        "        follows = [item for item in row[1:].tolist() if pd.notna(item)]  # Flatten and filter out NaN values\n",
        "        graph[user] = follows\n",
        "\n",
        "    return graph\n",
        "\n",
        "# Example\n",
        "file_path = \"Q3.csv\"  # Replace with the actual path\n",
        "graph = read_graph_from_csv(file_path)\n",
        "\n",
        "# Ensure the list of followers is straight (flattened)\n",
        "flattened_graph = {user: follows for user, follows in graph.items()}\n",
        "\n",
        "print(\"Graph represented as a straight adjacency list:\")\n",
        "print(flattened_graph)"
      ],
      "metadata": {
        "colab": {
          "base_uri": "https://localhost:8080/"
        },
        "id": "LTDEm2NvYqun",
        "outputId": "79d19de9-143c-45d4-e753-529421fba5e7"
      },
      "execution_count": 38,
      "outputs": [
        {
          "output_type": "stream",
          "name": "stdout",
          "text": [
            "Graph represented as a straight adjacency list:\n",
            "{'Alice': ['Bob', 'Charlie', 'Diana'], 'Bob': ['Alice', 'Eve', 'Frank'], 'Charlie': ['Alice', 'Grace'], 'Diana': ['Alice', 'Hannah', 'Ian'], 'Eve': ['Bob', 'Jack'], 'Frank': ['Bob', 'Kate'], 'Grace': ['Charlie', 'Liam'], 'Hannah': ['Diana', 'Mia'], 'Ian': ['Diana', 'Noah'], 'Jack': ['Eve'], 'Kate': ['Frank'], 'Liam': ['Grace'], 'Mia': ['Hannah'], 'Noah': ['Ian']}\n"
          ]
        }
      ]
    },
    {
      "cell_type": "markdown",
      "source": [
        "b. Mutual connection: the function should suggest friends based on the number of mutual connections. A mutual connection is a user who is followed by both the given user and another user. (10 marks)"
      ],
      "metadata": {
        "id": "HJswN6xPgQHi"
      }
    },
    {
      "cell_type": "code",
      "source": [
        "def calculate_mutual_connections(graph, user):\n",
        "    \"\"\"\n",
        "    Calculate the number of mutual friends with potential recommended users.\n",
        "\n",
        "    Parameters:\n",
        "        graph (dict): Adjacency list representation of the graph.\n",
        "        user (str): The target user.\n",
        "\n",
        "    Returns:\n",
        "        dict: The number of mutual friends for each potential recommended user.\n",
        "    \"\"\"\n",
        "    if user not in graph:\n",
        "        return {}\n",
        "\n",
        "    current_friends = set(graph[user])\n",
        "    mutual_counts = {}\n",
        "\n",
        "    for friend in current_friends:\n",
        "        for potential_friend in graph.get(friend, []):\n",
        "            if potential_friend != user and potential_friend not in current_friends:\n",
        "                if potential_friend not in mutual_counts:\n",
        "                    mutual_counts[potential_friend] = 0\n",
        "                mutual_counts[potential_friend] += 1\n",
        "\n",
        "    return mutual_counts\n",
        "\n",
        "# Example\n",
        "user = \"Alice\"  # Replace with the actual user\n",
        "mutual_counts = calculate_mutual_connections(graph, user)\n",
        "print(f\"Mutual friend counts for user {user}: {mutual_counts}\")\n"
      ],
      "metadata": {
        "colab": {
          "base_uri": "https://localhost:8080/"
        },
        "id": "6ukNyULZb_q2",
        "outputId": "75d6baaa-6f6f-465f-c83b-8f2b304da5f6"
      },
      "execution_count": 39,
      "outputs": [
        {
          "output_type": "stream",
          "name": "stdout",
          "text": [
            "Mutual friend counts for user Alice: {'Hannah': 1, 'Ian': 1, 'Eve': 1, 'Frank': 1, 'Grace': 1}\n"
          ]
        }
      ]
    },
    {
      "cell_type": "markdown",
      "source": [
        "c. Sorting: the suggested friend should be sorted in descending order of the number of mutual connections. (5 marks)"
      ],
      "metadata": {
        "id": "J6WqrZzYgZKb"
      }
    },
    {
      "cell_type": "code",
      "source": [
        "def sort_suggestions(mutual_counts):\n",
        "    \"\"\"\n",
        "    Sort potential recommended users by the number of mutual friends in descending order.\n",
        "\n",
        "    Parameters:\n",
        "        mutual_counts (dict): The number of mutual friends for each potential recommended user.\n",
        "\n",
        "    Returns:\n",
        "        list: Sorted list of users based on mutual friend count.\n",
        "    \"\"\"\n",
        "    return sorted(mutual_counts.keys(), key=lambda x: mutual_counts[x], reverse=True)\n",
        "\n",
        "# Example\n",
        "sorted_suggestions = sort_suggestions(mutual_counts)\n",
        "print(f\"Sorted recommended users: {sorted_suggestions}\")\n"
      ],
      "metadata": {
        "colab": {
          "base_uri": "https://localhost:8080/"
        },
        "id": "8nssWd5KcGRz",
        "outputId": "2ef3d683-6776-43e9-f32f-a8e065357cac"
      },
      "execution_count": 40,
      "outputs": [
        {
          "output_type": "stream",
          "name": "stdout",
          "text": [
            "Sorted recommended users: ['Hannah', 'Ian', 'Eve', 'Frank', 'Grace']\n"
          ]
        }
      ]
    },
    {
      "cell_type": "markdown",
      "source": [
        "d. Exclusion: The function should NOT suggest users who are already followed\n",
        "by the given user or the user themselves.\n",
        "(5 marks)"
      ],
      "metadata": {
        "id": "8xUxuRFagf50"
      }
    },
    {
      "cell_type": "code",
      "source": [
        "def suggest_friends(graph, user):\n",
        "    \"\"\"\n",
        "    Recommend friends based on mutual friends, excluding those already friends with the user.\n",
        "\n",
        "    Parameters:\n",
        "        graph (dict): Adjacency list representation of the graph.\n",
        "        user (str): The target user.\n",
        "\n",
        "    Returns:\n",
        "        list: Sorted list of recommended friends based on mutual friend count.\n",
        "    \"\"\"\n",
        "    if user not in graph:\n",
        "        return []\n",
        "\n",
        "    current_friends = set(graph[user])\n",
        "    mutual_counts = {}\n",
        "\n",
        "    # Count mutual friends for potential friends\n",
        "    for friend in current_friends:\n",
        "        for potential_friend in graph.get(friend, []):\n",
        "            if potential_friend != user and potential_friend not in current_friends:\n",
        "                if potential_friend not in mutual_counts:\n",
        "                    mutual_counts[potential_friend] = 0\n",
        "                mutual_counts[potential_friend] += 1\n",
        "\n",
        "    # Sort potential friends by the number of mutual friends in descending order\n",
        "    suggested_friends = sorted(mutual_counts.keys(), key=lambda x: mutual_counts[x], reverse=True)\n",
        "    return suggested_friends\n",
        "\n",
        "# Example\n",
        "suggested_friends = suggest_friends(graph, user)\n",
        "print(f\"Final recommended friends for user {user}: {suggested_friends}\")\n"
      ],
      "metadata": {
        "colab": {
          "base_uri": "https://localhost:8080/"
        },
        "id": "5aPbaQY3cP1p",
        "outputId": "0150034d-6623-4e75-d2b7-cd194146ffd1"
      },
      "execution_count": 41,
      "outputs": [
        {
          "output_type": "stream",
          "name": "stdout",
          "text": [
            "Final recommended friends for user Alice: ['Hannah', 'Ian', 'Eve', 'Frank', 'Grace']\n"
          ]
        }
      ]
    }
  ]
}
