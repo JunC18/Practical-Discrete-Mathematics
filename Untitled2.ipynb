{
  "nbformat": 4,
  "nbformat_minor": 0,
  "metadata": {
    "colab": {
      "provenance": [],
      "authorship_tag": "ABX9TyMeePH79aWxpa/sAPsulmwa",
      "include_colab_link": true
    },
    "kernelspec": {
      "name": "python3",
      "display_name": "Python 3"
    },
    "language_info": {
      "name": "python"
    }
  },
  "cells": [
    {
      "cell_type": "markdown",
      "metadata": {
        "id": "view-in-github",
        "colab_type": "text"
      },
      "source": [
        "<a href=\"https://colab.research.google.com/github/JunC18/Practical-Discrete-Mathematics/blob/master/Untitled2.ipynb\" target=\"_parent\"><img src=\"https://colab.research.google.com/assets/colab-badge.svg\" alt=\"Open In Colab\"/></a>"
      ]
    },
    {
      "cell_type": "code",
      "execution_count": 3,
      "metadata": {
        "colab": {
          "base_uri": "https://localhost:8080/"
        },
        "id": "P_qyfV3ASIIR",
        "outputId": "2309feee-a58d-4bd1-ad8d-53f1dcead37c"
      },
      "outputs": [
        {
          "output_type": "stream",
          "name": "stdout",
          "text": [
            "Predicted weight for a person with height 158cm: 66.62 kg\n"
          ]
        },
        {
          "output_type": "stream",
          "name": "stderr",
          "text": [
            "/usr/local/lib/python3.10/dist-packages/sklearn/utils/validation.py:2739: UserWarning: X does not have valid feature names, but LinearRegression was fitted with feature names\n",
            "  warnings.warn(\n"
          ]
        }
      ],
      "source": [
        "import pandas as pd\n",
        "from sklearn.linear_model import LinearRegression\n",
        "\n",
        "# 1. Load the dataset\n",
        "# Replace 'diploma_students_height_weight.csv' with the actual file path if it's not in your Colab root directory.\n",
        "# Make sure to upload the CSV file to your Colab environment first.\n",
        "data = pd.read_csv('diploma_students_height_weight.csv')\n",
        "\n",
        "# 2. Prepare the data\n",
        "X = data[['Height']]  # Features (height)\n",
        "y = data['Weight']   # Target (weight)\n",
        "\n",
        "# 3. Create and train the model\n",
        "model = LinearRegression()\n",
        "model.fit(X, y)\n",
        "\n",
        "# 4. Predict the weight for a height of 158cm\n",
        "height_cm = 158\n",
        "predicted_weight = model.predict([[height_cm]])[0]\n",
        "\n",
        "# 5. Print the prediction\n",
        "print(f\"Predicted weight for a person with height 158cm: {predicted_weight:.2f} kg\")"
      ]
    }
  ]
}