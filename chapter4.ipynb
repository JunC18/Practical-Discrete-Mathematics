{
  "cells": [
    {
      "cell_type": "markdown",
      "metadata": {
        "id": "view-in-github",
        "colab_type": "text"
      },
      "source": [
        "<a href=\"https://colab.research.google.com/github/JunC18/Practical-Discrete-Mathematics/blob/master/chapter4.ipynb\" target=\"_parent\"><img src=\"https://colab.research.google.com/assets/colab-badge.svg\" alt=\"Open In Colab\"/></a>"
      ]
    },
    {
      "cell_type": "markdown",
      "metadata": {
        "id": "RZFaZaSf0LtN"
      },
      "source": [
        "# Chapter 4 - Combinatorics Using SciPy\n",
        "\n",
        "This notebook contains code accompanying Chapter 4 Combinatorics Using SciPy in *Practical Discrete Mathematics* by Ryan T. White and Archana Tikayat Ray.\n",
        "\n",
        "## Counting Permutations and Combinations of Objects\n",
        "\n",
        "### Growth of Factorials\n",
        "\n",
        "Below, we compute some factorials, which count permutations."
      ]
    },
    {
      "cell_type": "code",
      "execution_count": null,
      "metadata": {
        "id": "qR5qaEem0LtQ",
        "outputId": "6033669a-3a1c-47e5-ccc0-4b226d8be78d"
      },
      "outputs": [
        {
          "name": "stdout",
          "output_type": "stream",
          "text": [
            "2432902008176640000\n",
            "93326215443944152681699238856266700490715968264381621468592963895217599993229915608941463976156518286253697920827223758251185210916864000000000000000000000000\n"
          ]
        }
      ],
      "source": [
        "import math\n",
        "print(math.factorial(20))\n",
        "print(math.factorial(100))"
      ]
    },
    {
      "cell_type": "markdown",
      "metadata": {
        "id": "9igcS4VV0LtR"
      },
      "source": [
        "### Example: Counting playlists\n",
        "\n",
        "The number of 10-permutations of the 20-song list can be computed with Python as follows."
      ]
    },
    {
      "cell_type": "code",
      "execution_count": null,
      "metadata": {
        "id": "lF0foR2i0LtR",
        "outputId": "d252eefc-a420-4cbb-e7df-8af97fb24d77"
      },
      "outputs": [
        {
          "name": "stdout",
          "output_type": "stream",
          "text": [
            "670442572800.0\n"
          ]
        }
      ],
      "source": [
        "import math\n",
        "print(math.factorial(20)/math.factorial(20-10))"
      ]
    },
    {
      "cell_type": "markdown",
      "metadata": {
        "id": "nuHkV6ZM0LtR"
      },
      "source": [
        "### Example: Teambuilding\n",
        "\n",
        "The code below finds the number of possible 4-person teams we could build from four of twenty people."
      ]
    },
    {
      "cell_type": "code",
      "execution_count": null,
      "metadata": {
        "id": "vFf3eV250LtS",
        "outputId": "00ea76f3-5c96-4d86-c203-b6ca263c1911"
      },
      "outputs": [
        {
          "name": "stdout",
          "output_type": "stream",
          "text": [
            "4845.0\n",
            "4845.0\n"
          ]
        }
      ],
      "source": [
        "# using the factorial function\n",
        "import math\n",
        "print(math.factorial(20) / math.factorial(4) / math.factorial(20-4))\n",
        "\n",
        "# import the special functions from sciPy\n",
        "import scipy.special\n",
        "print(scipy.special.binom(20,4))"
      ]
    },
    {
      "cell_type": "markdown",
      "metadata": {
        "id": "s3d-xr600LtS"
      },
      "source": [
        "## Applications to Memory Allocation\n",
        "\n",
        "### Example: Pre-allocating Memory\n",
        "\n",
        "Suppose we wish to create a large list of 1,000,000 numbers. The simplest way is to just run a loop, adding one element at a time to the vector. (Note that the runtime will vary depending on the hardware where you run the code.)"
      ]
    },
    {
      "cell_type": "code",
      "execution_count": null,
      "metadata": {
        "id": "19F5ZRep0LtS",
        "outputId": "bbb5e7fe-095b-43f9-9595-30c6aef50f30"
      },
      "outputs": [
        {
          "name": "stdout",
          "output_type": "stream",
          "text": [
            "0.13155269622802734\n"
          ]
        }
      ],
      "source": [
        "import time\n",
        "\n",
        "number = 1000000\n",
        "\n",
        "# Check the current time\n",
        "startTime = time.time()\n",
        "\n",
        "# Create an empty list\n",
        "list = []\n",
        "\n",
        "# Add items to the list one by one\n",
        "for counter in range(number):\n",
        "    list.append(counter)\n",
        "\n",
        "# Display the run time\n",
        "print(time.time() - startTime)"
      ]
    },
    {
      "cell_type": "markdown",
      "metadata": {
        "id": "-KcBJoEl0LtT"
      },
      "source": [
        "The code below can pre-allocate an array with 1,000,000 and fill it in with 1, 2, ..., 1,000,000. (Note that the runtime will vary depending on the hardware where you run the code.)"
      ]
    },
    {
      "cell_type": "code",
      "execution_count": null,
      "metadata": {
        "id": "loc_s1ry0LtT",
        "outputId": "b1ad1894-7379-4af5-eeec-168704c7edeb"
      },
      "outputs": [
        {
          "name": "stdout",
          "output_type": "stream",
          "text": [
            "0.10027527809143066\n"
          ]
        }
      ],
      "source": [
        "import time\n",
        "number = 1000000\n",
        "\n",
        "# Check the current time\n",
        "startTime = time.time()\n",
        "\n",
        "# Create a list of 1000000 zeros\n",
        "list = [None]*number\n",
        "\n",
        "# Add items to the list one by one\n",
        "for counter in range(number):\n",
        "    list[counter] = counter\n",
        "\n",
        "# Display the run time\n",
        "print(time.time() - startTime)"
      ]
    },
    {
      "cell_type": "markdown",
      "metadata": {
        "id": "u1l2OsQG0LtT"
      },
      "source": [
        "## Efficacy of Brute Force Algorithms\n",
        "\n",
        "### Example: Caesar Cipher\n",
        "\n",
        "A brute force check of how the text would be decoded for each possible Caesar cipher."
      ]
    },
    {
      "cell_type": "markdown",
      "metadata": {
        "id": "x8NX16Xh0LtU"
      },
      "source": [
        "Clearly, the length of the shift is 13 letters as only this one produces an intelligible message."
      ]
    },
    {
      "cell_type": "code",
      "execution_count": null,
      "metadata": {
        "colab": {
          "base_uri": "https://localhost:8080/"
        },
        "id": "MB5s6gWL0LtU",
        "outputId": "e0d796f3-1449-4c94-cea6-c80ce5633a3f"
      },
      "outputs": [
        {
          "output_type": "stream",
          "name": "stdout",
          "text": [
            "0 nzohfu gur rarzl ng avtug\n",
            "1 oapigv hvs sbsam oh bwuvh\n",
            "2 pbqjhw iwt tctbn pi cxvwi\n",
            "3 qcrkix jxu uduco qj dywxj\n",
            "4 rdsljy kyv vevdp rk ezxyk\n",
            "5 setmkz lzw wfweq sl fayzl\n",
            "6 tfunla max xgxfr tm gbzam\n",
            "7 ugvomb nby yhygs un hcabn\n",
            "8 vhwpnc ocz zizht vo idbco\n",
            "9 wixqod pda ajaiu wp jecdp\n",
            "10 xjyrpe qeb bkbjv xq kfdeq\n",
            "11 ykzsqf rfc clckw yr lgefr\n",
            "12 zlatrg sgd dmdlx zs mhfgs\n",
            "13 ambush the enemy at night\n",
            "14 bncvti uif fofnz bu ojhiu\n",
            "15 codwuj vjg gpgoa cv pkijv\n",
            "16 dpexvk wkh hqhpb dw qljkw\n",
            "17 eqfywl xli iriqc ex rmklx\n",
            "18 frgzxm ymj jsjrd fy snlmy\n",
            "19 gshayn znk ktkse gz tomnz\n",
            "20 htibzo aol lultf ha upnoa\n",
            "21 iujcap bpm mvmug ib vqopb\n",
            "22 jvkdbq cqn nwnvh jc wrpqc\n",
            "23 kwlecr dro oxowi kd xsqrd\n",
            "24 lxmfds esp pypxj le ytrse\n",
            "25 mynget ftq qzqyk mf zustf\n"
          ]
        }
      ],
      "source": [
        "# Intercepted message\n",
        "codedMessage = 'nzohfu gur rarzl ng avtug'\n",
        "\n",
        "# We will shift by 0, shift by 1, shift by 2, ... and print the results\n",
        "for counter in range(26):\n",
        "    # Start with no guess\n",
        "    guessedMessage = ''\n",
        "\n",
        "    # Loop through each letter in the coded message\n",
        "    for x in codedMessage:\n",
        "\n",
        "        # If x is not a space\n",
        "        if x != ' ':\n",
        "\n",
        "            # Shift the letter forward by counter\n",
        "            if ord(x)+counter <= 122:\n",
        "                x = chr(ord(x)+counter)\n",
        "\n",
        "            # Subtract 26 if we go beyond z\n",
        "            else:\n",
        "                x = chr(ord(x)+counter-26)\n",
        "\n",
        "        # Build a guess for the message one letter at a time\n",
        "        guessedMessage = guessedMessage + x\n",
        "\n",
        "    # Print the counter (the shift) and the message\n",
        "    print(counter, guessedMessage)\n"
      ]
    },
    {
      "cell_type": "markdown",
      "source": [
        "Given the following original and decrypted words, Nrite a Python function to determine the\n",
        "possible cipher keys used in a Caesar cipher. The fuinction should ignore any non-alphabetic\n",
        "characters in the words\n",
        "Original Word: \"S3CURE!\n",
        "Decrypted Word: \"V3FZWH!\"\n",
        "What are the possible keys, and how would you implement this in Python?"
      ],
      "metadata": {
        "id": "3cxKSxk66W3Q"
      }
    },
    {
      "cell_type": "code",
      "source": [
        "def find_caesar_cipher_keys(original, decrypted):\n",
        "    # Function to calculate the shift between two characters\n",
        "    def calculate_shift(o_char, d_char):\n",
        "        return (ord(d_char) - ord(o_char)) % 26\n",
        "\n",
        "    # List to store possible keys\n",
        "    possible_keys = []\n",
        "\n",
        "    # Iterate over the characters in the original and decrypted words\n",
        "    for o_char, d_char in zip(original, decrypted):\n",
        "        if o_char.isalpha() and d_char.isalpha():\n",
        "            shift = calculate_shift(o_char, d_char)\n",
        "            if shift not in possible_keys:\n",
        "                possible_keys.append(shift)\n",
        "\n",
        "    return possible_keys\n",
        "\n",
        "# Example usage to find possible keys\n",
        "original_word = \"S3CURE!\"\n",
        "decrypted_word = \"V3FZWH!\"\n",
        "keys = find_caesar_cipher_keys(original_word, decrypted_word)\n",
        "print(\"Possible keys:\", keys)\n",
        "\n",
        "# Intercepted message\n",
        "coded_message = 'S3CURE!'\n",
        "\n",
        "# We will shift by 0, shift by 1, shift by 2, ... and print the results\n",
        "for counter in range(26):\n",
        "    # Start with no guess\n",
        "    guessed_message = ''\n",
        "\n",
        "    # Loop through each letter in the coded message\n",
        "    for x in coded_message:\n",
        "\n",
        "        # If x is an alphabetic character\n",
        "        if x.isalpha():\n",
        "\n",
        "            # Determine if the character is uppercase or lowercase\n",
        "            ascii_offset = 65 if x.isupper() else 97\n",
        "\n",
        "            # Shift the letter forward by counter and wrap around using modulo 26\n",
        "            new_char = chr((ord(x) - ascii_offset + counter) % 26 + ascii_offset)\n",
        "            guessed_message += new_char\n",
        "        else:\n",
        "            # If the character is not alphabetic, add it unchanged\n",
        "            guessed_message += x\n",
        "\n",
        "    # Print the counter (the shift) and the message\n",
        "    print(f'Shift {counter}: {guessed_message}')\n"
      ],
      "metadata": {
        "colab": {
          "base_uri": "https://localhost:8080/"
        },
        "id": "ftoV372y6G9x",
        "outputId": "5a1e7efe-c2ce-4b91-aa6f-e4c4e01d37fa"
      },
      "execution_count": null,
      "outputs": [
        {
          "output_type": "stream",
          "name": "stdout",
          "text": [
            "Possible keys: [3, 5]\n",
            "Shift 0: S3CURE!\n",
            "Shift 1: T3DVSF!\n",
            "Shift 2: U3EWTG!\n",
            "Shift 3: V3FXUH!\n",
            "Shift 4: W3GYVI!\n",
            "Shift 5: X3HZWJ!\n",
            "Shift 6: Y3IAXK!\n",
            "Shift 7: Z3JBYL!\n",
            "Shift 8: A3KCZM!\n",
            "Shift 9: B3LDAN!\n",
            "Shift 10: C3MEBO!\n",
            "Shift 11: D3NFCP!\n",
            "Shift 12: E3OGDQ!\n",
            "Shift 13: F3PHER!\n",
            "Shift 14: G3QIFS!\n",
            "Shift 15: H3RJGT!\n",
            "Shift 16: I3SKHU!\n",
            "Shift 17: J3TLIV!\n",
            "Shift 18: K3UMJW!\n",
            "Shift 19: L3VNKX!\n",
            "Shift 20: M3WOLY!\n",
            "Shift 21: N3XPMZ!\n",
            "Shift 22: O3YQNA!\n",
            "Shift 23: P3ZROB!\n",
            "Shift 24: Q3ASPC!\n",
            "Shift 25: R3BTQD!\n"
          ]
        }
      ]
    }
  ],
  "metadata": {
    "kernelspec": {
      "display_name": "Python 3.7 (DL)",
      "language": "python",
      "name": "dl"
    },
    "language_info": {
      "codemirror_mode": {
        "name": "ipython",
        "version": 3
      },
      "file_extension": ".py",
      "mimetype": "text/x-python",
      "name": "python",
      "nbconvert_exporter": "python",
      "pygments_lexer": "ipython3",
      "version": "3.7.7"
    },
    "colab": {
      "provenance": [],
      "include_colab_link": true
    }
  },
  "nbformat": 4,
  "nbformat_minor": 0
}