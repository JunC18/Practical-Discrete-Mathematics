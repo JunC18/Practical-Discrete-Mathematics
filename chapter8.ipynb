{
  "cells": [
    {
      "cell_type": "markdown",
      "metadata": {
        "id": "view-in-github",
        "colab_type": "text"
      },
      "source": [
        "<a href=\"https://colab.research.google.com/github/JunC18/Practical-Discrete-Mathematics/blob/master/chapter8.ipynb\" target=\"_parent\"><img src=\"https://colab.research.google.com/assets/colab-badge.svg\" alt=\"Open In Colab\"/></a>"
      ]
    },
    {
      "cell_type": "markdown",
      "metadata": {
        "id": "MZZfA-9XEQvM"
      },
      "source": [
        "# Chapter 8 - Storage and Feature Extraction of Graphs, Trees, and Networks\n",
        "\n",
        "This notebook contains code accompanying Chapter 8 Storage and Feature Extraction of Graphs, Trees, and Networks in *Practical Discrete Mathematics* by Ryan T. White and Archana Tikayat Ray.\n",
        "\n",
        "## Storage of Graphs and Networks\n",
        "\n",
        "Below are adjacency matrices for storing the graphs in Figure 8.1 and Figure 8.8 as well as an adjacency matrix for the directed graph in Figure 8.6."
      ]
    },
    {
      "cell_type": "code",
      "execution_count": null,
      "metadata": {
        "colab": {
          "base_uri": "https://localhost:8080/"
        },
        "id": "O-79aFCIEQvP",
        "outputId": "05972d8a-d4fd-4d61-93d6-3e8f64eca0b5"
      },
      "outputs": [
        {
          "output_type": "stream",
          "name": "stdout",
          "text": [
            "A1 = [[0 1 1 0 1 0]\n",
            " [1 0 1 1 0 1]\n",
            " [1 1 0 1 1 0]\n",
            " [0 1 1 0 1 0]\n",
            " [1 0 1 1 0 0]\n",
            " [0 1 0 0 0 0]]\n",
            "\n",
            " A2 = [[0 1 0 0 0 0]\n",
            " [1 0 0 0 0 1]\n",
            " [0 0 0 1 1 0]\n",
            " [0 0 1 0 1 0]\n",
            " [0 0 1 1 0 0]\n",
            " [0 1 0 0 0 0]]\n",
            "\n",
            " A3 = [[0 0 1 0 0 0]\n",
            " [1 0 0 0 0 1]\n",
            " [0 0 0 0 1 0]\n",
            " [0 1 1 0 1 0]\n",
            " [1 0 1 1 0 0]\n",
            " [0 0 0 0 0 1]]\n"
          ]
        }
      ],
      "source": [
        "import numpy\n",
        "\n",
        "# Create an adjacency matrix for the graph in Figure 8.1\n",
        "A1 = numpy.array([[0, 1, 1, 0, 1, 0], [1, 0, 1, 1, 0, 1],\n",
        "                 [1, 1, 0, 1, 1, 0], [0, 1, 1, 0, 1, 0],\n",
        "                 [1, 0, 1, 1, 0, 0], [0, 1, 0, 0, 0, 0]])\n",
        "\n",
        "# Create an adjacency matrix for the graph in Figure 8.8\n",
        "A2 = numpy.array([[0, 1, 0, 0, 0, 0], [1, 0, 0, 0, 0, 1],\n",
        "                 [0, 0, 0, 1, 1, 0], [0, 0, 1, 0, 1, 0],\n",
        "                 [0, 0, 1, 1, 0, 0], [0, 1, 0, 0, 0, 0]])\n",
        "\n",
        "# Create an adjacency matrix for the directed graph in Figure 8.6\n",
        "A3 = numpy.array([[0, 0, 1, 0, 0, 0], [1, 0, 0, 0, 0, 1],\n",
        "                 [0, 0, 0, 0, 1, 0], [0, 1, 1, 0, 1, 0],\n",
        "                 [1, 0, 1, 1, 0, 0], [0, 0, 0, 0, 0, 1]])\n",
        "\n",
        "# print the adjacency matrices\n",
        "print(\"A1 =\", A1)\n",
        "print(\"\\n A2 =\", A2)\n",
        "print(\"\\n A3 =\", A3)"
      ]
    },
    {
      "cell_type": "markdown",
      "metadata": {
        "id": "fcyZfzZuEQvR"
      },
      "source": [
        "Below are weight matrices for the networks in Figure 8.5 and Figure 8.7."
      ]
    },
    {
      "cell_type": "code",
      "execution_count": null,
      "metadata": {
        "id": "551xsGhyEQvR",
        "outputId": "8efb5c99-e704-49aa-d794-b2047d383061"
      },
      "outputs": [
        {
          "name": "stdout",
          "output_type": "stream",
          "text": [
            "W1 = [[0 4 1 0 2 0]\n",
            " [4 0 2 1 0 1]\n",
            " [1 2 0 1 1 0]\n",
            " [0 1 1 0 2 0]\n",
            " [2 0 1 2 0 0]\n",
            " [0 1 0 0 0 0]]\n",
            "\n",
            " W2 = [[0 0 2 0 0 0]\n",
            " [1 0 0 0 0 2]\n",
            " [0 0 0 0 2 0]\n",
            " [0 2 3 0 4 0]\n",
            " [3 0 1 1 0 0]\n",
            " [0 0 0 0 0 1]]\n"
          ]
        }
      ],
      "source": [
        "import numpy\n",
        "\n",
        "# Create a weight matrix for the network in Figure 8.5\n",
        "W1 = numpy.array([[0, 4, 1, 0, 2, 0], [4, 0, 2, 1, 0, 1],\n",
        "                 [1, 2, 0, 1, 1, 0], [0, 1, 1, 0, 2, 0],\n",
        "                 [2, 0, 1, 2, 0, 0], [0, 1, 0, 0, 0, 0]])\n",
        "\n",
        "# Create a weight matrix for the directed network in Figure 8.7\n",
        "W2 = numpy.array([[0, 0, 2, 0, 0, 0], [1, 0, 0, 0, 0, 2],\n",
        "                 [0, 0, 0, 0, 2, 0], [0, 2, 3, 0, 4, 0],\n",
        "                 [3, 0, 1, 1, 0, 0], [0, 0, 0, 0, 0, 1]])\n",
        "\n",
        "# Print the weight matrices\n",
        "print(\"W1 =\", W1)\n",
        "print(\"\\n W2 =\", W2)"
      ]
    },
    {
      "cell_type": "markdown",
      "metadata": {
        "id": "NTvz7QoHEQvS"
      },
      "source": [
        "## Feature Extraction of Graphs"
      ]
    },
    {
      "cell_type": "markdown",
      "metadata": {
        "id": "RBb8yn0uEQvS"
      },
      "source": [
        "Below is how we can find the degrees of the vertices of the graph in Figure 8.1."
      ]
    },
    {
      "cell_type": "code",
      "execution_count": null,
      "metadata": {
        "id": "Cxy18_kkEQvS",
        "outputId": "4b5297d3-0fa4-4283-fde0-2aa7b066f21c"
      },
      "outputs": [
        {
          "name": "stdout",
          "output_type": "stream",
          "text": [
            "[3 4 4 3 3 1]\n",
            "[3 4 4 3 3 1]\n"
          ]
        }
      ],
      "source": [
        "# Find the degrees of each vertex of the graph in Figure 8.1\n",
        "\n",
        "# Using column sums\n",
        "print(numpy.sum(A1, axis=0))\n",
        "\n",
        "# Using row sums\n",
        "print(numpy.sum(A1, axis=1))"
      ]
    },
    {
      "cell_type": "markdown",
      "metadata": {
        "id": "wZ5hpJfCEQvT"
      },
      "source": [
        "Below is how we can find the in-degrees and out-degrees of the vertices of the directed graph in Figure 8.6."
      ]
    },
    {
      "cell_type": "code",
      "execution_count": null,
      "metadata": {
        "id": "N3KY4sTYEQvT",
        "outputId": "6dc5bd85-baae-4ba4-c538-80b1b22ba2ab"
      },
      "outputs": [
        {
          "name": "stdout",
          "output_type": "stream",
          "text": [
            "[1 2 1 3 3 1]\n",
            "[2 1 3 1 2 2]\n",
            "11\n",
            "11\n"
          ]
        }
      ],
      "source": [
        "# Find out-degrees for each vertex in the directed graph in Figure 8.6\n",
        "outdegrees = numpy.sum(A3, axis=1)\n",
        "print(outdegrees)\n",
        "\n",
        "# Find in-degrees for each vertex in the directed graph in Figure 8.6\n",
        "indegrees = numpy.sum(A3, axis=0)\n",
        "print(indegrees)\n",
        "\n",
        "print(numpy.sum(outdegrees))\n",
        "print(numpy.sum(indegrees))"
      ]
    },
    {
      "cell_type": "markdown",
      "metadata": {
        "id": "ce7d6pcREQvT"
      },
      "source": [
        "Below is code to find the second and third powers of the adjacency matrix of the graph from Figure 8.1. The number in row $i$, column $j$ of each power represents the number of 2-edge and 3-edge paths between vertex $v_{i-1}$ and $v_{j-1}$, respectively."
      ]
    },
    {
      "cell_type": "code",
      "execution_count": null,
      "metadata": {
        "id": "F3VnNHZVEQvU",
        "outputId": "9df8d4bb-f1b3-4d17-9ffa-8ac133d5a4f1"
      },
      "outputs": [
        {
          "name": "stdout",
          "output_type": "stream",
          "text": [
            "[[3 1 2 3 1 1]\n",
            " [1 4 2 1 3 0]\n",
            " [2 2 4 2 2 1]\n",
            " [3 1 2 3 1 1]\n",
            " [1 3 2 1 3 0]\n",
            " [1 0 1 1 0 1]]\n",
            "\n",
            " [[4 9 8 4 8 1]\n",
            " [9 4 9 9 4 4]\n",
            " [8 9 8 8 8 2]\n",
            " [4 9 8 4 8 1]\n",
            " [8 4 8 8 4 3]\n",
            " [1 4 2 1 3 0]]\n"
          ]
        }
      ],
      "source": [
        "# Find the second power of adjacency matrix A1\n",
        "print(numpy.linalg.matrix_power(A1,2))\n",
        "\n",
        "# Find the third power of adjacency matrix A1\n",
        "print(\"\\n\", numpy.linalg.matrix_power(A1,3))"
      ]
    },
    {
      "cell_type": "markdown",
      "metadata": {
        "id": "Kjz_7Y2iEQvU"
      },
      "source": [
        "The code below finds the number of paths between several pairs of vertices of different lengths for the directed graph in Figure 8.8."
      ]
    },
    {
      "cell_type": "code",
      "execution_count": null,
      "metadata": {
        "id": "lzNMa76fEQvU",
        "outputId": "6df3d8e6-2c87-4b44-947c-9297ce84d976"
      },
      "outputs": [
        {
          "name": "stdout",
          "output_type": "stream",
          "text": [
            "There are 0 paths of length 1 from v1 to v6\n",
            "There are 1 paths of length 2 from v1 to v6\n",
            "There are 0 paths of length 3 from v1 to v6\n",
            "There are 2 paths of length 4 from v1 to v6\n",
            "There are 0 paths of length 5 from v1 to v6\n",
            "There are 4 paths of length 6 from v1 to v6\n",
            "There are 0 paths of length 1 from v2 to v3\n",
            "There are 0 paths of length 2 from v2 to v3\n",
            "There are 0 paths of length 3 from v2 to v3\n",
            "There are 0 paths of length 4 from v2 to v3\n",
            "There are 0 paths of length 5 from v2 to v3\n",
            "There are 0 paths of length 6 from v2 to v3\n"
          ]
        }
      ],
      "source": [
        "# Print the number of paths from v1 to v6 of each length from 1 to 6\n",
        "for counter in range(1,7):\n",
        "    A2counter = numpy.linalg.matrix_power(A2,counter)\n",
        "    print(\"There are\", A2counter[0,5], \"paths of length\", counter, \"from v1 to v6\")\n",
        "\n",
        "# Print the number of paths from v2 to v3 of each length from 1 to 6\n",
        "for counter in range(1,7):\n",
        "    A2counter = numpy.linalg.matrix_power(A2,counter)\n",
        "    print(\"There are\", A2counter[1,2], \"paths of length\", counter, \"from v2 to v3\")"
      ]
    },
    {
      "cell_type": "markdown",
      "source": [
        "## Based on the code below, find the number of path in graph"
      ],
      "metadata": {
        "id": "Uo1g2MQLGRPv"
      }
    },
    {
      "cell_type": "markdown",
      "source": [
        "A1"
      ],
      "metadata": {
        "id": "ouWygqwBGY_l"
      }
    },
    {
      "cell_type": "code",
      "source": [
        "import numpy as np\n",
        "\n",
        "# Print the number of paths from v1 to v6 of each length from 1 to 6\n",
        "for counter in range(1, 7):\n",
        "    A1counter = np.linalg.matrix_power(A1, counter)\n",
        "    print(\"There are\", A1counter[0, 5], \"paths of length\", counter, \"from v1 to v6\")\n",
        "\n",
        "# Print the number of paths from v2 to v3 of each length from 1 to 6\n",
        "for counter in range(1, 7):\n",
        "    A1counter = np.linalg.matrix_power(A1, counter)\n",
        "    print(\"There are\", A1counter[1, 2], \"paths of length\", counter, \"from v2 to v3\")\n"
      ],
      "metadata": {
        "colab": {
          "base_uri": "https://localhost:8080/"
        },
        "id": "NYTjieRkGVgp",
        "outputId": "dd715c12-3702-4d4b-dc15-3607d93a17e6"
      },
      "execution_count": null,
      "outputs": [
        {
          "output_type": "stream",
          "name": "stdout",
          "text": [
            "There are 0 paths of length 1 from v1 to v6\n",
            "There are 1 paths of length 2 from v1 to v6\n",
            "There are 1 paths of length 3 from v1 to v6\n",
            "There are 9 paths of length 4 from v1 to v6\n",
            "There are 17 paths of length 5 from v1 to v6\n",
            "There are 84 paths of length 6 from v1 to v6\n",
            "There are 1 paths of length 1 from v2 to v3\n",
            "There are 2 paths of length 2 from v2 to v3\n",
            "There are 9 paths of length 3 from v2 to v3\n",
            "There are 26 paths of length 4 from v2 to v3\n",
            "There are 92 paths of length 5 from v2 to v3\n",
            "There are 292 paths of length 6 from v2 to v3\n"
          ]
        }
      ]
    },
    {
      "cell_type": "markdown",
      "source": [
        "A3"
      ],
      "metadata": {
        "id": "iWI319zxGxUL"
      }
    },
    {
      "cell_type": "code",
      "source": [
        "import numpy as np\n",
        "\n",
        "# Print the number of paths from v1 to v6 of each length from 1 to 6\n",
        "for counter in range(1, 7):\n",
        "    A3counter = np.linalg.matrix_power(A3, counter)\n",
        "    print(\"There are\", A3counter[0, 5], \"paths of length\", counter, \"from v1 to v6\")\n",
        "\n",
        "# Print the number of paths from v2 to v3 of each length from 1 to 6\n",
        "for counter in range(1, 7):\n",
        "    A3counter = np.linalg.matrix_power(A3, counter)\n",
        "    print(\"There are\", A3counter[1, 2], \"paths of length\", counter, \"from v2 to v3\")\n"
      ],
      "metadata": {
        "colab": {
          "base_uri": "https://localhost:8080/"
        },
        "id": "RIpjKr7jGySn",
        "outputId": "5631fcc6-99b3-4cde-e43d-11207e05e87e"
      },
      "execution_count": null,
      "outputs": [
        {
          "output_type": "stream",
          "name": "stdout",
          "text": [
            "There are 0 paths of length 1 from v1 to v6\n",
            "There are 0 paths of length 2 from v1 to v6\n",
            "There are 0 paths of length 3 from v1 to v6\n",
            "There are 0 paths of length 4 from v1 to v6\n",
            "There are 1 paths of length 5 from v1 to v6\n",
            "There are 1 paths of length 6 from v1 to v6\n",
            "There are 0 paths of length 1 from v2 to v3\n",
            "There are 1 paths of length 2 from v2 to v3\n",
            "There are 0 paths of length 3 from v2 to v3\n",
            "There are 1 paths of length 4 from v2 to v3\n",
            "There are 2 paths of length 5 from v2 to v3\n",
            "There are 2 paths of length 6 from v2 to v3\n"
          ]
        }
      ]
    },
    {
      "cell_type": "markdown",
      "source": [
        "W1"
      ],
      "metadata": {
        "id": "4KUTv7vhG8H7"
      }
    },
    {
      "cell_type": "code",
      "source": [
        "import numpy as np\n",
        "\n",
        "# Print the number of paths from v1 to v6 of each length from 1 to 6\n",
        "for counter in range(1, 7):\n",
        "    W1counter = np.linalg.matrix_power(W1, counter)\n",
        "    print(\"There are\", W1counter[0, 5], \"paths of length\", counter, \"from v1 to v6\")\n",
        "\n",
        "# Print the number of paths from v2 to v3 of each length from 1 to 6\n",
        "for counter in range(1, 7):\n",
        "    W1counter = np.linalg.matrix_power(W1, counter)\n",
        "    print(\"There are\", W1counter[1, 2], \"paths of length\", counter, \"from v2 to v3\")\n"
      ],
      "metadata": {
        "colab": {
          "base_uri": "https://localhost:8080/"
        },
        "id": "s78MLXBdG9lF",
        "outputId": "9e5b2626-73de-4bf8-8f03-472680c39d24"
      },
      "execution_count": null,
      "outputs": [
        {
          "output_type": "stream",
          "name": "stdout",
          "text": [
            "There are 0 paths of length 1 from v1 to v6\n",
            "There are 4 paths of length 2 from v1 to v6\n",
            "There are 2 paths of length 3 from v1 to v6\n",
            "There are 117 paths of length 4 from v1 to v6\n",
            "There are 166 paths of length 5 from v1 to v6\n",
            "There are 3657 paths of length 6 from v1 to v6\n",
            "There are 2 paths of length 1 from v2 to v3\n",
            "There are 5 paths of length 2 from v2 to v3\n",
            "There are 60 paths of length 3 from v2 to v3\n",
            "There are 221 paths of length 4 from v2 to v3\n",
            "There are 1990 paths of length 5 from v2 to v3\n",
            "There are 8560 paths of length 6 from v2 to v3\n"
          ]
        }
      ]
    },
    {
      "cell_type": "markdown",
      "source": [
        "W2"
      ],
      "metadata": {
        "id": "ATnyFWDEHEPg"
      }
    },
    {
      "cell_type": "code",
      "source": [
        "import numpy as np\n",
        "\n",
        "# Print the number of paths from v1 to v6 of each length from 1 to 6\n",
        "for counter in range(1, 7):\n",
        "    W2counter = np.linalg.matrix_power(W2, counter)\n",
        "    print(\"There are\", W2counter[0, 5], \"paths of length\", counter, \"from v1 to v6\")\n",
        "\n",
        "# Print the number of paths from v2 to v3 of each length from 1 to 6\n",
        "for counter in range(1, 7):\n",
        "    W2counter = np.linalg.matrix_power(W2, counter)\n",
        "    print(\"There are\", W2counter[1, 2], \"paths of length\", counter, \"from v2 to v3\")\n"
      ],
      "metadata": {
        "colab": {
          "base_uri": "https://localhost:8080/"
        },
        "id": "kq7C63sTHFUJ",
        "outputId": "246e4674-69fd-4216-d6cd-2259e12ed0cf"
      },
      "execution_count": null,
      "outputs": [
        {
          "output_type": "stream",
          "name": "stdout",
          "text": [
            "There are 0 paths of length 1 from v1 to v6\n",
            "There are 0 paths of length 2 from v1 to v6\n",
            "There are 0 paths of length 3 from v1 to v6\n",
            "There are 0 paths of length 4 from v1 to v6\n",
            "There are 16 paths of length 5 from v1 to v6\n",
            "There are 16 paths of length 6 from v1 to v6\n",
            "There are 0 paths of length 1 from v2 to v3\n",
            "There are 2 paths of length 2 from v2 to v3\n",
            "There are 0 paths of length 3 from v2 to v3\n",
            "There are 4 paths of length 4 from v2 to v3\n",
            "There are 36 paths of length 5 from v2 to v3\n",
            "There are 24 paths of length 6 from v2 to v3\n"
          ]
        }
      ]
    }
  ],
  "metadata": {
    "kernelspec": {
      "display_name": "Python [conda env:dl]",
      "language": "python",
      "name": "conda-env-dl-py"
    },
    "language_info": {
      "codemirror_mode": {
        "name": "ipython",
        "version": 3
      },
      "file_extension": ".py",
      "mimetype": "text/x-python",
      "name": "python",
      "nbconvert_exporter": "python",
      "pygments_lexer": "ipython3",
      "version": "3.7.7"
    },
    "colab": {
      "provenance": [],
      "include_colab_link": true
    }
  },
  "nbformat": 4,
  "nbformat_minor": 0
}